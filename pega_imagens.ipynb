{
 "cells": [
  {
   "cell_type": "code",
   "execution_count": 4,
   "metadata": {},
   "outputs": [],
   "source": [
    "from dotenv import load_dotenv\n",
    "load_dotenv()\n",
    "import json\n",
    "from normaliza_iniciativas.utils import get_credentials\n",
    "from normaliza_iniciativas.kobo_handler import KoboHandler\n",
    "import pandas as pd\n",
    "import os\n",
    "import requests"
   ]
  },
  {
   "cell_type": "code",
   "execution_count": 8,
   "metadata": {},
   "outputs": [],
   "source": [
    "# abre o arquivo json das iniciativas\n",
    "kobo_handler = KoboHandler()\n",
    "kobo_token = kobo_handler.get_token()\n",
    "\n",
    "KOBO_FORM_ID = os.getenv(\"KOBO_FORM_ID\")\n",
    "\n",
    "survey_data_file = (\n",
    "    f\"data/cadastro_de_iniciativas_mapa_das_periferias_{KOBO_FORM_ID}_data.json\"\n",
    ")\n",
    "\n",
    "survey_data = json.load(open(survey_data_file))\n",
    "survey_data = pd.DataFrame(survey_data[\"results\"])"
   ]
  },
  {
   "cell_type": "code",
   "execution_count": 9,
   "metadata": {},
   "outputs": [
    {
     "name": "stdout",
     "output_type": "stream",
     "text": [
      "\n",
      "      data_id: 628550479\n",
      "      form_id: 81c5007f7ab541d98a5b439029a8b6a5\n",
      "      uuid: da9f03be-0d23-41c5-83f3-eb8c6f6884bc\n",
      "      \n",
      "Arquivo mediafiles/fotos_iniciativas/628550479_IMG_20231011_111334857-20_23_19.jpg já existe, pulando download\n"
     ]
    },
    {
     "data": {
      "text/plain": [
       "True"
      ]
     },
     "execution_count": 9,
     "metadata": {},
     "output_type": "execute_result"
    }
   ],
   "source": [
    "\n",
    "# Pega o primeiro resultado do arquivo json\n",
    "answer = survey_data.iloc[0]\n",
    "# display(survey_data.columns)\n",
    "data_id = answer[\"_id\"]\n",
    "form_id = answer[\"formhub/uuid\"]\n",
    "uuid = answer[\"_uuid\"]\n",
    "headers = {\n",
    "    \"Authorization\": f\"Token {kobo_token}\",\n",
    "}\n",
    "\n",
    "\n",
    "print(\n",
    "    f\"\"\"\n",
    "      data_id: {data_id}\n",
    "      form_id: {form_id}\n",
    "      uuid: {uuid}\n",
    "      \"\"\"\n",
    ")\n",
    "\n",
    "# pega a coluna _attachments\n",
    "attachments = answer[\"_attachments\"]\n",
    "# pegando apenas a primeira imagem para usar de exemplo\n",
    "attachment = attachments[0]\n",
    "\n",
    "# pega o nome do arquivo\n",
    "kobo_filename = attachment[\"filename\"]\n",
    "kobo_filename = os.path.basename(kobo_filename)\n",
    "\n",
    "# Gera o nome do arquivo de Saída\n",
    "otp_filename = f\"{data_id}_{kobo_filename}\"\n",
    "\n",
    "# Cria o caminho completo do arquivo de saída\n",
    "otp_filename = os.path.join(\"mediafiles\",\"fotos_iniciativas\", otp_filename)\n",
    "\n",
    "# Pega o link para download da imagem\n",
    "download_url = attachment[\"download_url\"]\n",
    "\n",
    "# Faz o download da imagem\n",
    "kobo_handler.download_foto(download_url, otp_filename)\n"
   ]
  }
 ],
 "metadata": {
  "kernelspec": {
   "display_name": ".venv",
   "language": "python",
   "name": "python3"
  },
  "language_info": {
   "codemirror_mode": {
    "name": "ipython",
    "version": 3
   },
   "file_extension": ".py",
   "mimetype": "text/x-python",
   "name": "python",
   "nbconvert_exporter": "python",
   "pygments_lexer": "ipython3",
   "version": "3.11.2"
  }
 },
 "nbformat": 4,
 "nbformat_minor": 2
}
