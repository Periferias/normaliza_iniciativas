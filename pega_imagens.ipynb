{
 "cells": [
  {
   "cell_type": "code",
   "execution_count": 4,
   "metadata": {},
   "outputs": [],
   "source": [
    "from dotenv import load_dotenv\n",
    "load_dotenv()\n",
    "import json\n",
    "from normaliza_iniciativas.utils import get_credentials\n",
    "from normaliza_iniciativas.kobo_handler import KoboHandler\n",
    "import pandas as pd\n",
    "import os\n",
    "import requests"
   ]
  },
  {
   "cell_type": "code",
   "execution_count": 5,
   "metadata": {},
   "outputs": [],
   "source": [
    "# abre o arquivo json das iniciativas\n",
    "\n",
    "KOBO_FORM_ID = os.getenv(\"KOBO_FORM_ID\")\n",
    "\n",
    "survey_data_file = (\n",
    "    f\"data/cadastro_de_iniciativas_mapa_das_periferias_{KOBO_FORM_ID}_data.json\"\n",
    ")\n",
    "\n",
    "survey_data = json.load(open(survey_data_file))\n",
    "survey_data = pd.DataFrame(survey_data[\"results\"])"
   ]
  },
  {
   "cell_type": "code",
   "execution_count": 7,
   "metadata": {},
   "outputs": [
    {
     "name": "stdout",
     "output_type": "stream",
     "text": [
      "\n",
      "      data_id: 628550479\n",
      "      form_id: 81c5007f7ab541d98a5b439029a8b6a5\n",
      "      uuid: da9f03be-0d23-41c5-83f3-eb8c6f6884bc\n",
      "      \n",
      "<class 'list'>\n"
     ]
    },
    {
     "data": {
      "text/plain": [
       "{'download_url': 'https://eu.kobotoolbox.org/api/v2/assets/atUcxaKhdkAJsHhiPzXJ2E/data/628550479/attachments/272442914/',\n",
       " 'download_large_url': 'https://eu.kobotoolbox.org/api/v2/assets/atUcxaKhdkAJsHhiPzXJ2E/data/628550479/attachments/272442914/large/',\n",
       " 'download_medium_url': 'https://eu.kobotoolbox.org/api/v2/assets/atUcxaKhdkAJsHhiPzXJ2E/data/628550479/attachments/272442914/medium/',\n",
       " 'download_small_url': 'https://eu.kobotoolbox.org/api/v2/assets/atUcxaKhdkAJsHhiPzXJ2E/data/628550479/attachments/272442914/small/',\n",
       " 'mimetype': 'image/jpeg',\n",
       " 'filename': 'cadiniciativas/attachments/81c5007f7ab541d98a5b439029a8b6a5/da9f03be-0d23-41c5-83f3-eb8c6f6884bc/IMG_20231011_111334857-20_23_19.jpg',\n",
       " 'instance': 628550479,\n",
       " 'xform': 1784720,\n",
       " 'id': 272442914,\n",
       " 'question_xpath': 'grupo_imagens/foto_1'}"
      ]
     },
     "metadata": {},
     "output_type": "display_data"
    },
    {
     "name": "stdout",
     "output_type": "stream",
     "text": [
      "mediafiles/fotos_iniciativas/628550479_IMG_20231011_111334857-20_23_19.jpg\n",
      "IMG_20231011_111334857-20_23_19.jpg\n",
      "https://eu.kobotoolbox.org/api/v2/assets/atUcxaKhdkAJsHhiPzXJ2E/data/628550479/attachments/272442914/\n",
      "Arquivo mediafiles/fotos_iniciativas/628550479_IMG_20231011_111334857-20_23_19.jpg já existe, pulando download\n"
     ]
    },
    {
     "data": {
      "text/plain": [
       "True"
      ]
     },
     "execution_count": 7,
     "metadata": {},
     "output_type": "execute_result"
    }
   ],
   "source": [
    "kobo_handler = KoboHandler()\n",
    "kobo_token = kobo_handler.get_token()\n",
    "# Pega o primeiro resultado do arquivo json\n",
    "answer = survey_data.iloc[0]\n",
    "# display(survey_data.columns)\n",
    "data_id = answer[\"_id\"]\n",
    "form_id = answer[\"formhub/uuid\"]\n",
    "uuid = answer[\"_uuid\"]\n",
    "headers = {\n",
    "    \"Authorization\": f\"Token {kobo_token}\",\n",
    "}\n",
    "\n",
    "\n",
    "print(\n",
    "    f\"\"\"\n",
    "      data_id: {data_id}\n",
    "      form_id: {form_id}\n",
    "      uuid: {uuid}\n",
    "      \"\"\"\n",
    ")\n",
    "\n",
    "# pega a coluna _attachments\n",
    "attachments = answer[\"_attachments\"]\n",
    "# attachments = pd.DataFrame(attachments)\n",
    "# tipo\n",
    "print(type(attachments))\n",
    "attachment = attachments[0]\n",
    "display(attachment)\n",
    "kobo_filename = attachment[\"filename\"]\n",
    "kobo_filename = os.path.basename(kobo_filename)\n",
    "otp_filename = f\"{data_id}_{kobo_filename}\"\n",
    "otp_filename = os.path.join(\"mediafiles\",\"fotos_iniciativas\", otp_filename)\n",
    "print(otp_filename)\n",
    "print(kobo_filename)\n",
    "download_url = attachment[\"download_url\"]\n",
    "print(download_url)\n",
    "kobo_handler.download_foto(download_url, otp_filename)\n",
    "\n",
    "# # baixa a imagem usando requests\n",
    "# response = requests.get(download_url, headers=headers)\n",
    "# # salva a imagem\n",
    "# with open(otp_filename, \"wb\") as f:\n",
    "#     f.write(response.content)\n",
    "\n",
    "# display(attachments)\n",
    "# for img in answer:\n",
    "#     print(img)"
   ]
  }
 ],
 "metadata": {
  "kernelspec": {
   "display_name": ".venv",
   "language": "python",
   "name": "python3"
  },
  "language_info": {
   "codemirror_mode": {
    "name": "ipython",
    "version": 3
   },
   "file_extension": ".py",
   "mimetype": "text/x-python",
   "name": "python",
   "nbconvert_exporter": "python",
   "pygments_lexer": "ipython3",
   "version": "3.11.2"
  }
 },
 "nbformat": 4,
 "nbformat_minor": 2
}
