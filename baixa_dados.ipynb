{
 "cells": [
  {
   "cell_type": "markdown",
   "metadata": {},
   "source": [
    "# Baixa Dados\n",
    "\n",
    "Aqui serão baixados todos os dados do formulário desejado.\n",
    "\n",
    "Os arquivos serão salvos na pasta data deste repositório"
   ]
  },
  {
   "cell_type": "code",
   "execution_count": 1,
   "metadata": {},
   "outputs": [],
   "source": [
    "from dotenv import load_dotenv\n",
    "\n",
    "load_dotenv()\n",
    "import requests\n",
    "import pandas as pd\n",
    "import geopandas as gpd\n",
    "import os\n",
    "import json\n",
    "from normaliza_iniciativas.normalizer import clear_string"
   ]
  },
  {
   "cell_type": "code",
   "execution_count": 2,
   "metadata": {},
   "outputs": [],
   "source": [
    "KOBO_API_KEY = os.getenv(\"KOBO_API_KEY\")\n",
    "KOBO_USERNAME = os.getenv(\"KOBO_USERNAME\")\n",
    "KOBO_PASSWORD = os.getenv(\"KOBO_PASSWORD\")\n",
    "KOBO_URL = os.getenv(\"KOBO_URL\")\n",
    "FROM_UID = \"atUcxaKhdkAJsHhiPzXJ2E\"\n",
    "\n",
    "data_folder = \"data\"\n",
    "os.makedirs(data_folder, exist_ok=True)\n",
    "\n",
    "kobo_endpoints = {\n",
    "    \"token\": f\"{KOBO_URL}/token/\",\n",
    "    \"assets_json\": f\"{KOBO_URL}/api/v2/assets.json\",\n",
    "}\n",
    "auth = (KOBO_USERNAME, KOBO_PASSWORD)\n",
    "opts = {\n",
    "    \"format\": \"json\",\n",
    "}"
   ]
  },
  {
   "cell_type": "code",
   "execution_count": 3,
   "metadata": {},
   "outputs": [],
   "source": [
    "result = requests.post(kobo_endpoints[\"token\"], auth=auth, params=opts)\n",
    "API_TOKEN = result.json()[\"token\"]\n",
    "headers = {\"Authorization\": f\"Token {API_TOKEN}\"}"
   ]
  },
  {
   "cell_type": "markdown",
   "metadata": {},
   "source": [
    "Aqui pegamos as informções de todos os formulários que estão no kobotoolbox, e salvamos em um arquivo json."
   ]
  },
  {
   "cell_type": "code",
   "execution_count": 4,
   "metadata": {},
   "outputs": [
    {
     "name": "stdout",
     "output_type": "stream",
     "text": [
      "Quantidade de resultados 19\n",
      "Next: None\n"
     ]
    }
   ],
   "source": [
    "result_assets = requests.get(kobo_endpoints[\"assets_json\"], headers=headers)\n",
    "result_assets = result_assets.json()\n",
    "print(f\"Quantidade de resultados {result_assets['count']}\")\n",
    "print(f'Next: {result_assets[\"next\"]}')\n",
    "with open(os.path.join('.',data_folder, \"kobo_assets.json\"), \"w\") as f:\n",
    "    json.dump(result_assets, f, indent=2, ensure_ascii=False)\n",
    "\n",
    "results = result_assets[\"results\"]\n"
   ]
  },
  {
   "cell_type": "markdown",
   "metadata": {},
   "source": [
    "Baixando todos os dados do formulário que desejamos"
   ]
  },
  {
   "cell_type": "code",
   "execution_count": 5,
   "metadata": {},
   "outputs": [
    {
     "name": "stdout",
     "output_type": "stream",
     "text": [
      "Baixando cadastro_de_iniciativas_mapa_das_periferias\n",
      "Baixando arquivo xls do formulário\n",
      "Baixando dados do formulário\n",
      "Dados Baixados com sucesso!\n"
     ]
    }
   ],
   "source": [
    "form_to_download = next(filter(lambda x: x[\"uid\"] == FROM_UID, results))\n",
    "form_name = clear_string(form_to_download[\"name\"])\n",
    "print(f\"Baixando {form_name}\")\n",
    "# * Salvando arquivo de metadados do formulário\n",
    "filename_form_metadata = f\"{form_name}_metadata.json\"\n",
    "with open(os.path.join(\".\", data_folder, filename_form_metadata), \"w\") as f:\n",
    "    json.dump(form_to_download, f, indent=2, ensure_ascii=False)\n",
    "# * Baixando o arquivo xls do formulário\n",
    "print(\"Baixando arquivo xls do formulário\")\n",
    "download_url = next(filter(lambda x: x[\"format\"] == \"xls\", form_to_download[\"downloads\"]))\n",
    "form_configs_filename = f\"{form_name}_configs.xlsx\"\n",
    "form_configs = requests.get(download_url[\"url\"], headers=headers)\n",
    "with open(os.path.join(\".\", data_folder, form_configs_filename), \"wb\") as f:\n",
    "    f.write(form_configs.content)\n",
    "# * Baixando os dados do formulário\n",
    "print(\"Baixando dados do formulário\")\n",
    "url_data = form_to_download[\"data\"]\n",
    "data_filename = f\"{form_name}_data.json\"\n",
    "data = requests.get(url_data, headers=headers)\n",
    "data = data.json()\n",
    "with open(os.path.join(\".\", data_folder, data_filename), \"w\") as f:\n",
    "    json.dump(data, f, indent=2, ensure_ascii=False)\n",
    "\n",
    "print(\"Dados Baixados com sucesso!\")"
   ]
  }
 ],
 "metadata": {
  "kernelspec": {
   "display_name": ".venv",
   "language": "python",
   "name": "python3"
  },
  "language_info": {
   "codemirror_mode": {
    "name": "ipython",
    "version": 3
   },
   "file_extension": ".py",
   "mimetype": "text/x-python",
   "name": "python",
   "nbconvert_exporter": "python",
   "pygments_lexer": "ipython3",
   "version": "3.11.2"
  }
 },
 "nbformat": 4,
 "nbformat_minor": 2
}
